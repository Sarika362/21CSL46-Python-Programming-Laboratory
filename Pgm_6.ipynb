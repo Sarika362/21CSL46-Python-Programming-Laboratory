{
 "cells": [
  {
   "cell_type": "markdown",
   "id": "77ad668a",
   "metadata": {},
   "source": [
    "a) Write a python program to accept a file name from the user and perform the following operations\n",
    "1. Display the first N line of the file\n",
    "2. Find the frequency of occurrence of the word accepted from the user\n",
    "in the file"
   ]
  },
  {
   "cell_type": "code",
   "execution_count": 1,
   "id": "094fc8da",
   "metadata": {},
   "outputs": [
    {
     "name": "stdout",
     "output_type": "stream",
     "text": [
      "Enter the filename : example.txt\n",
      "1 : HARDER YOU WORK LUCKIER YOU GET.Have you ever seen a giddy lottery winner on the news and thought to yourself, \"Why can't I ever be that lucky?\" \n",
      "\n",
      "2 : In fact, all of us have benefited from lucky breaks at various times in our lives. \n",
      "\n",
      "3 : Take a moment to reflect on the times in your life when you've been lucky. \n",
      "\n",
      "4 : Perhaps a kind stranger returned your lost wallet without asking for a reward or you snagged a store's last must-have holiday toy for your child. \n",
      "\n",
      "5 : Every human life is built on a series of lucky breaks. Whether it's your health, family, wealth or any other privileges you enjoy, you likely have it better than millions of others. Appreciating your luck will help you learn to take advantage of the lucky breaks that lie ahead for you.\n",
      "\n",
      "Enter a word : lucky\n",
      "The word lucky appears 5 times in the file\n"
     ]
    }
   ],
   "source": [
    "import os.path\n",
    "import sys\n",
    "\n",
    "fname = input(\"Enter the filename : \")\n",
    "\n",
    "if not os.path.isfile(fname):\n",
    "    print(\"File\", fname, \"doesn't exists\")\n",
    "    sys.exit(0)\n",
    "    \n",
    "infile = open(fname, \"r\")\n",
    "\n",
    "lineList = infile.readlines()\n",
    "for i in range(5):\n",
    "    print(i+1, \":\", lineList[i])\n",
    "    \n",
    "word = input(\"Enter a word : \")\n",
    "\n",
    "cnt = 0\n",
    "for line in lineList:\n",
    "    cnt += line.count(word)\n",
    "    \n",
    "print(\"The word\", word, \"appears\", cnt, \"times in the file\")"
   ]
  },
  {
   "cell_type": "markdown",
   "id": "0f9b3e1a",
   "metadata": {},
   "source": [
    "b) Write a python program to create a ZIP file of a particular folder which contains several files inside it."
   ]
  },
  {
   "cell_type": "code",
   "execution_count": 2,
   "id": "50ceb733",
   "metadata": {},
   "outputs": [
    {
     "name": "stdout",
     "output_type": "stream",
     "text": [
      "Enter Directory name that you want to backup : sample programs\n",
      "Archive myZip.zip created successfully\n"
     ]
    }
   ],
   "source": [
    "import os\n",
    "import sys\n",
    "import pathlib\n",
    "import zipfile\n",
    "\n",
    "dirName = input(\"Enter Directory name that you want to backup : \")\n",
    "\n",
    "if not os.path.isdir(dirName):\n",
    "    print(\"Directory\", dirName, \"doesn't exists\")\n",
    "    sys.exit(0)\n",
    "    \n",
    "curDirectory = pathlib.Path(dirName)\n",
    "\n",
    "with zipfile.ZipFile(\"myZip.zip\", mode=\"w\") as archive:\n",
    "    for file_path in curDirectory.rglob(\"*\"):\n",
    "        archive.write(file_path, arcname=file_path.relative_to(curDirectory))\n",
    "        \n",
    "if os.path.isfile(\"myZip.zip\"):\n",
    "    print(\"Archive\", \"myZip.zip\", \"created successfully\")\n",
    "    \n",
    "else:\n",
    "    print(\"Error in creating zip archive\")"
   ]
  }
 ],
 "metadata": {
  "kernelspec": {
   "display_name": "Python 3 (ipykernel)",
   "language": "python",
   "name": "python3"
  },
  "language_info": {
   "codemirror_mode": {
    "name": "ipython",
    "version": 3
   },
   "file_extension": ".py",
   "mimetype": "text/x-python",
   "name": "python",
   "nbconvert_exporter": "python",
   "pygments_lexer": "ipython3",
   "version": "3.11.4"
  }
 },
 "nbformat": 4,
 "nbformat_minor": 5
}
