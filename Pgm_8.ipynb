{
 "cells": [
  {
   "cell_type": "markdown",
   "id": "b2751385",
   "metadata": {},
   "source": [
    "a) Write a python program to find the whether the given input is palindrome or not (for both string and integer) using the concept of polymorphism and inheritance."
   ]
  },
  {
   "cell_type": "code",
   "execution_count": 1,
   "id": "3675763f",
   "metadata": {},
   "outputs": [
    {
     "name": "stdout",
     "output_type": "stream",
     "text": [
      "Enter a string : malayalam\n",
      "Given string is a Palindrome\n",
      "Enter a integer : 12321\n",
      "Given integer is a Palindrome\n"
     ]
    }
   ],
   "source": [
    "class PaliStr:\n",
    "    def __init__(self):\n",
    "        self.isPali = False\n",
    "        \n",
    "    def chkPalindrome(self, myStr):\n",
    "        if myStr == myStr[::-1]:\n",
    "            self.isPali = True\n",
    "        else:\n",
    "            self.isPali = False\n",
    "        return self.isPali\n",
    "\n",
    "class PaliInt(PaliStr):\n",
    "    def __init__(self):\n",
    "        self.isPali = False\n",
    "        \n",
    "    def chkPalindrome(self, val):\n",
    "        temp = val\n",
    "        rev = 0\n",
    "        \n",
    "        while temp != 0:\n",
    "            dig = temp % 10\n",
    "            rev = (rev*10) + dig\n",
    "            temp = temp //10\n",
    "            \n",
    "        if val == rev:\n",
    "            self.isPali = True   \n",
    "        else:\n",
    "            self.isPali = False\n",
    "            \n",
    "        return self.isPali\n",
    "    \n",
    "st = input(\"Enter a string : \")\n",
    "stObj = PaliStr()\n",
    "if stObj.chkPalindrome(st):\n",
    "    print(\"Given string is a Palindrome\")\n",
    "else:\n",
    "    print(\"Given string is not a Palindrome\")\n",
    "    \n",
    "val = int(input(\"Enter a integer : \"))\n",
    "intObj = PaliInt()\n",
    "if intObj.chkPalindrome(val):\n",
    "    print(\"Given integer is a Palindrome\")\n",
    "else:\n",
    "    print(\"Given integer is not a Palindrome\")"
   ]
  }
 ],
 "metadata": {
  "kernelspec": {
   "display_name": "Python 3 (ipykernel)",
   "language": "python",
   "name": "python3"
  },
  "language_info": {
   "codemirror_mode": {
    "name": "ipython",
    "version": 3
   },
   "file_extension": ".py",
   "mimetype": "text/x-python",
   "name": "python",
   "nbconvert_exporter": "python",
   "pygments_lexer": "ipython3",
   "version": "3.11.4"
  }
 },
 "nbformat": 4,
 "nbformat_minor": 5
}
