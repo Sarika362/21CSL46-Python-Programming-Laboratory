{
 "cells": [
  {
   "cell_type": "markdown",
   "id": "96e61eff",
   "metadata": {},
   "source": [
    "Program to calculate the area of Square, Rectangle, Circle and Triangle."
   ]
  },
  {
   "cell_type": "code",
   "execution_count": 1,
   "id": "75d1c0b8",
   "metadata": {},
   "outputs": [
    {
     "name": "stdout",
     "output_type": "stream",
     "text": [
      "Enter the value of side of Suare : 5\n",
      "Area of Square = 25\n",
      "Enter the value of length and breadth of Rectangle : 4 5\n",
      "Area of Rectangle = 20\n",
      "Enter the value of radius of Circle : 3\n",
      "Area of Circle = 28.259999999999998\n",
      "Enter the value of base and height of Triangle : 3 9\n",
      "Area of Rectangle = 13.5\n"
     ]
    }
   ],
   "source": [
    "side = int(input(\"Enter the value of side of Suare : \"))\n",
    "area = side * side\n",
    "print(F'Area of Square = {area}')\n",
    "\n",
    "length, breadth = input('''Enter the value of length and breadth of \n",
    "                        Rectangle : ''').split()\n",
    "length, breadth = int(length), int(breadth)\n",
    "area_rect = length * breadth\n",
    "print(F'Area of Rectangle = {area_rect}')\n",
    "\n",
    "radius = int(input(\"Enter the value of radius of Circle : \"))\n",
    "area_circle = 3.14 * radius * radius\n",
    "print(F'Area of Circle = {area_circle}')\n",
    "\n",
    "base, height = input('''Enter the value of base and height of \n",
    "                     Triangle : ''').split()\n",
    "base, height = int(base), int(height)\n",
    "area_tri = base * height / 2\n",
    "print(F'Area of Rectangle = {area_tri}')"
   ]
  }
 ],
 "metadata": {
  "kernelspec": {
   "display_name": "Python 3 (ipykernel)",
   "language": "python",
   "name": "python3"
  },
  "language_info": {
   "codemirror_mode": {
    "name": "ipython",
    "version": 3
   },
   "file_extension": ".py",
   "mimetype": "text/x-python",
   "name": "python",
   "nbconvert_exporter": "python",
   "pygments_lexer": "ipython3",
   "version": "3.11.4"
  }
 },
 "nbformat": 4,
 "nbformat_minor": 5
}
