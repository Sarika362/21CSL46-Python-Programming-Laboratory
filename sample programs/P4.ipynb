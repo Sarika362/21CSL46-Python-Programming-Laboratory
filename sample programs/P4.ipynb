{
 "cells": [
  {
   "cell_type": "markdown",
   "id": "91181d36",
   "metadata": {},
   "source": [
    "Program to add multiples of 5 upto N natural numbers"
   ]
  },
  {
   "cell_type": "code",
   "execution_count": 1,
   "id": "819711c1",
   "metadata": {},
   "outputs": [
    {
     "name": "stdout",
     "output_type": "stream",
     "text": [
      "Enter a number : 20\n",
      "Sum of natural numbers which are multiples of 5 = 50\n"
     ]
    }
   ],
   "source": [
    "num = int(input(\"Enter a number : \"))\n",
    "\n",
    "sum = 0\n",
    "for i in range(1, num+1) :\n",
    "    if i % 5 == 0 :\n",
    "        sum += i\n",
    "    \n",
    "print(f'Sum of natural numbers which are multiples of 5 = {sum}')"
   ]
  },
  {
   "cell_type": "code",
   "execution_count": 2,
   "id": "5883c48f",
   "metadata": {},
   "outputs": [
    {
     "name": "stdout",
     "output_type": "stream",
     "text": [
      "Enter a limit : 8\n",
      "Enter a number whose multiples have to be found : 2\n",
      "Sum of natural numbers which are multiples of 2 = 20\n"
     ]
    }
   ],
   "source": [
    "num = int(input(\"Enter a limit : \"))\n",
    "num1 = int(input(\"Enter a number whose multiples have to be found : \"))\n",
    "\n",
    "sum = 0\n",
    "for i in range(1, num+1) :\n",
    "    if i % num1 == 0 :\n",
    "        sum += i\n",
    "    \n",
    "print(f'Sum of natural numbers which are multiples of {num1} = {sum}')"
   ]
  }
 ],
 "metadata": {
  "kernelspec": {
   "display_name": "Python 3 (ipykernel)",
   "language": "python",
   "name": "python3"
  },
  "language_info": {
   "codemirror_mode": {
    "name": "ipython",
    "version": 3
   },
   "file_extension": ".py",
   "mimetype": "text/x-python",
   "name": "python",
   "nbconvert_exporter": "python",
   "pygments_lexer": "ipython3",
   "version": "3.11.4"
  }
 },
 "nbformat": 4,
 "nbformat_minor": 5
}
