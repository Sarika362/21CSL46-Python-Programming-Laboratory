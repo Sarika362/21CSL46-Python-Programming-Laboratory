{
 "cells": [
  {
   "cell_type": "markdown",
   "id": "3f485abd",
   "metadata": {},
   "source": [
    "Program to find largest of two given numbers."
   ]
  },
  {
   "cell_type": "code",
   "execution_count": 1,
   "id": "660b0836",
   "metadata": {},
   "outputs": [
    {
     "name": "stdout",
     "output_type": "stream",
     "text": [
      "Enter value of a, b : 9,8\n",
      "9 is largest\n"
     ]
    }
   ],
   "source": [
    "a, b = [int(a) for a in input('Enter value of a, b : ').split(',',2)]\n",
    "\n",
    "if a > b :\n",
    "    print(f'{a} is largest')\n",
    "\n",
    "else :\n",
    "    print(f'{b} is largest')"
   ]
  }
 ],
 "metadata": {
  "kernelspec": {
   "display_name": "Python 3 (ipykernel)",
   "language": "python",
   "name": "python3"
  },
  "language_info": {
   "codemirror_mode": {
    "name": "ipython",
    "version": 3
   },
   "file_extension": ".py",
   "mimetype": "text/x-python",
   "name": "python",
   "nbconvert_exporter": "python",
   "pygments_lexer": "ipython3",
   "version": "3.11.4"
  }
 },
 "nbformat": 4,
 "nbformat_minor": 5
}
