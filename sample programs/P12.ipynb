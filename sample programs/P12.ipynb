{
 "cells": [
  {
   "cell_type": "markdown",
   "id": "0674f607",
   "metadata": {},
   "source": [
    "Program to find the factorial of a given number."
   ]
  },
  {
   "cell_type": "code",
   "execution_count": 1,
   "id": "44455105",
   "metadata": {},
   "outputs": [
    {
     "name": "stdout",
     "output_type": "stream",
     "text": [
      "Enter a number : 5\n",
      "Factorial of 5 is 120\n"
     ]
    }
   ],
   "source": [
    "number = int(input(\"Enter a number : \"))\n",
    "\n",
    "fact = 1\n",
    "\n",
    "for i in range(1, number+1) :\n",
    "    fact *= i\n",
    "\n",
    "print(f'Factorial of {number} is {fact}')"
   ]
  }
 ],
 "metadata": {
  "kernelspec": {
   "display_name": "Python 3 (ipykernel)",
   "language": "python",
   "name": "python3"
  },
  "language_info": {
   "codemirror_mode": {
    "name": "ipython",
    "version": 3
   },
   "file_extension": ".py",
   "mimetype": "text/x-python",
   "name": "python",
   "nbconvert_exporter": "python",
   "pygments_lexer": "ipython3",
   "version": "3.11.4"
  }
 },
 "nbformat": 4,
 "nbformat_minor": 5
}
