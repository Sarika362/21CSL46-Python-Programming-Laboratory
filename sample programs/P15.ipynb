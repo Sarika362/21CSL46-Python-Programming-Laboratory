{
 "cells": [
  {
   "cell_type": "markdown",
   "id": "3e5216a7",
   "metadata": {},
   "source": [
    "Program to check whether the given number is prime or not."
   ]
  },
  {
   "cell_type": "code",
   "execution_count": 1,
   "id": "a2650ad7",
   "metadata": {},
   "outputs": [
    {
     "name": "stdout",
     "output_type": "stream",
     "text": [
      "Enter any integer:21\n",
      "21 is Not a Prime Number\n"
     ]
    }
   ],
   "source": [
    "z=int(input(\"Enter any integer:\"))\n",
    "flag = False\n",
    "if z == 0:\n",
    "    print(\"Zero is neither prime nor composite\")\n",
    "if z == 1:\n",
    "    print(\"1 is not a prime number \")\n",
    "if z > 1:\n",
    "    for i in range(2,z):\n",
    "        if (z % i) == 0:\n",
    "            flag = True\n",
    "            break\n",
    "if flag:\n",
    "    print(z,\"is Not a Prime Number\")\n",
    "else:\n",
    "    print(z,\"is a Prime Number\")"
   ]
  }
 ],
 "metadata": {
  "kernelspec": {
   "display_name": "Python 3 (ipykernel)",
   "language": "python",
   "name": "python3"
  },
  "language_info": {
   "codemirror_mode": {
    "name": "ipython",
    "version": 3
   },
   "file_extension": ".py",
   "mimetype": "text/x-python",
   "name": "python",
   "nbconvert_exporter": "python",
   "pygments_lexer": "ipython3",
   "version": "3.11.4"
  }
 },
 "nbformat": 4,
 "nbformat_minor": 5
}
