{
 "cells": [
  {
   "cell_type": "markdown",
   "id": "ef1bc38c",
   "metadata": {},
   "source": [
    "Program to find the largest"
   ]
  },
  {
   "cell_type": "code",
   "execution_count": 1,
   "id": "17130d52",
   "metadata": {},
   "outputs": [
    {
     "name": "stdout",
     "output_type": "stream",
     "text": [
      "Enter value of a, b : 8,5,55\n",
      "55 is largest\n"
     ]
    }
   ],
   "source": [
    "a, b, c = [int(a) for a in input('Enter value of a, b : ').split(',',3)]\n",
    "\n",
    "if a > b & a > c:\n",
    "    print(f'{a} is largest')\n",
    "\n",
    "elif b > a & b > c :\n",
    "    print(f'{b} is largest')\n",
    "        \n",
    "else :\n",
    "    print(f'{c} is largest')"
   ]
  }
 ],
 "metadata": {
  "kernelspec": {
   "display_name": "Python 3 (ipykernel)",
   "language": "python",
   "name": "python3"
  },
  "language_info": {
   "codemirror_mode": {
    "name": "ipython",
    "version": 3
   },
   "file_extension": ".py",
   "mimetype": "text/x-python",
   "name": "python",
   "nbconvert_exporter": "python",
   "pygments_lexer": "ipython3",
   "version": "3.11.4"
  }
 },
 "nbformat": 4,
 "nbformat_minor": 5
}
