{
 "cells": [
  {
   "cell_type": "markdown",
   "id": "f6e8109f",
   "metadata": {},
   "source": [
    "Program to display multiplication tables upto given number in a formatted manner."
   ]
  },
  {
   "cell_type": "code",
   "execution_count": 1,
   "id": "d4a627d8",
   "metadata": {},
   "outputs": [
    {
     "name": "stdout",
     "output_type": "stream",
     "text": [
      "Enter a number : 3\n",
      "Multiplication Table of all numbers upto 3\n",
      "1 * 0  = 0\t2 * 0  = 0\t3 * 0  = 0\t\n",
      "1 * 1  = 1\t2 * 1  = 2\t3 * 1  = 3\t\n",
      "1 * 2  = 2\t2 * 2  = 4\t3 * 2  = 6\t\n",
      "1 * 3  = 3\t2 * 3  = 6\t3 * 3  = 9\t\n",
      "1 * 4  = 4\t2 * 4  = 8\t3 * 4  = 12\t\n",
      "1 * 5  = 5\t2 * 5  = 10\t3 * 5  = 15\t\n",
      "1 * 6  = 6\t2 * 6  = 12\t3 * 6  = 18\t\n",
      "1 * 7  = 7\t2 * 7  = 14\t3 * 7  = 21\t\n",
      "1 * 8  = 8\t2 * 8  = 16\t3 * 8  = 24\t\n",
      "1 * 9  = 9\t2 * 9  = 18\t3 * 9  = 27\t\n",
      "1 * 10  = 10\t2 * 10  = 20\t3 * 10  = 30\t\n"
     ]
    }
   ],
   "source": [
    "number = int(input(\"Enter a number : \"))\n",
    "\n",
    "print(\"Multiplication Table of all numbers upto\",number)\n",
    "\n",
    "for i in range(11) :\n",
    "    for j in range(1, number+1) :\n",
    "        print(f'{j} * {i}  = {i*j}', end='\\t')\n",
    "    print()"
   ]
  }
 ],
 "metadata": {
  "kernelspec": {
   "display_name": "Python 3 (ipykernel)",
   "language": "python",
   "name": "python3"
  },
  "language_info": {
   "codemirror_mode": {
    "name": "ipython",
    "version": 3
   },
   "file_extension": ".py",
   "mimetype": "text/x-python",
   "name": "python",
   "nbconvert_exporter": "python",
   "pygments_lexer": "ipython3",
   "version": "3.11.4"
  }
 },
 "nbformat": 4,
 "nbformat_minor": 5
}
