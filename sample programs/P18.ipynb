{
 "cells": [
  {
   "cell_type": "markdown",
   "id": "d85792ab",
   "metadata": {},
   "source": [
    "Program to find a particular string in a file."
   ]
  },
  {
   "cell_type": "code",
   "execution_count": 1,
   "id": "d35c14f8",
   "metadata": {},
   "outputs": [
    {
     "name": "stdout",
     "output_type": "stream",
     "text": [
      "Enter the file name:example1.txt\n",
      "Found following words:\n",
      "HAR^DER7\n",
      "Whi^le8\n",
      "N^or2\n"
     ]
    }
   ],
   "source": [
    "import re\n",
    "fname = input(\"Enter the file name:\")\n",
    "fh = open(fname)\n",
    "lines = fh.readlines()\n",
    "str_regex = '[A-Z]+[a-zA-Z^]+[0-9]'\n",
    "strings = []\n",
    "for line in lines:\n",
    "    result = re.search(str_regex,line)\n",
    "    if result!= None:\n",
    "        strings.append(result.group())\n",
    "print(\"Found following words:\")\n",
    "for string in strings:\n",
    "    print(string)\n",
    "fh.close()"
   ]
  },
  {
   "cell_type": "code",
   "execution_count": null,
   "id": "17dcec30",
   "metadata": {},
   "outputs": [],
   "source": [
    "example1.txt\n",
    "\n",
    "HAR^DER7 YOU WORK LUCKIER YOU GET.Have you ever seen a giddy lottery \n",
    "winner on the news and thought to yourself, \"Why can't I ever be\n",
    "that lucky?\" \n",
    "Whi^le8\n",
    "In fact, all of us have benefited from lucky breaks at various times\n",
    "in our lives. Take a moment to reflect on the times in your life \n",
    "when you've been lucky. Perhaps a kind stranger returned your lost\n",
    "wallet without asking for a reward or you snagged \n",
    "a store's last must-have holiday toy for your child. \n",
    "Every human life is bu^ilt on a series of lucky breaks. Whether i\n",
    "t's your health, family, wealth or any other privileges you enjoy,\n",
    "you likely have it better than millions of others. Appreciating your \n",
    "luck will help you learn to take advantage of the lucky breaks that \n",
    "lie ahead for you.Lucky breaks in business can range from meeting \n",
    "the right connection at the right time to snagging a low-cost \n",
    "advertising deal. I know a thing or two about luck. By pure chance, I \n",
    "stumbled into a meeting with someone who owned the URL that my \n",
    "company needed. After discussing the vision for the company, that \n",
    "particular individual was so enamored with the idea of Lottery.com \n",
    "that he gave us the URL and even invested in the company. Talk about \n",
    "luck!\n",
    "N^or2"
   ]
  }
 ],
 "metadata": {
  "kernelspec": {
   "display_name": "Python 3 (ipykernel)",
   "language": "python",
   "name": "python3"
  },
  "language_info": {
   "codemirror_mode": {
    "name": "ipython",
    "version": 3
   },
   "file_extension": ".py",
   "mimetype": "text/x-python",
   "name": "python",
   "nbconvert_exporter": "python",
   "pygments_lexer": "ipython3",
   "version": "3.11.4"
  }
 },
 "nbformat": 4,
 "nbformat_minor": 5
}
