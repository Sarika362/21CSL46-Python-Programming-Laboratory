{
 "cells": [
  {
   "cell_type": "markdown",
   "id": "f0f39ca8",
   "metadata": {},
   "source": [
    "Program to print gcd of two numbers."
   ]
  },
  {
   "cell_type": "code",
   "execution_count": 1,
   "id": "963e8387",
   "metadata": {},
   "outputs": [
    {
     "name": "stdout",
     "output_type": "stream",
     "text": [
      "Enter integer 1:5\n",
      "Enter integer 2:25\n",
      "The GCD of 5 and 25 is : 5\n"
     ]
    }
   ],
   "source": [
    "def gcd(a,b):\n",
    "    if b == 0:\n",
    "        return a\n",
    "    else:\n",
    "        return gcd(b,a % b)\n",
    "    \n",
    "a = int(input(\"Enter integer 1 : \"))\n",
    "b = int(input(\"Enter integer 2 : \"))\n",
    "print(\"The GCD of\",a,\"and\",b,\"is :\",gcd(a,b))"
   ]
  }
 ],
 "metadata": {
  "kernelspec": {
   "display_name": "Python 3 (ipykernel)",
   "language": "python",
   "name": "python3"
  },
  "language_info": {
   "codemirror_mode": {
    "name": "ipython",
    "version": 3
   },
   "file_extension": ".py",
   "mimetype": "text/x-python",
   "name": "python",
   "nbconvert_exporter": "python",
   "pygments_lexer": "ipython3",
   "version": "3.11.4"
  }
 },
 "nbformat": 4,
 "nbformat_minor": 5
}
