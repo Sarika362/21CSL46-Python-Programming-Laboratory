{
 "cells": [
  {
   "cell_type": "markdown",
   "id": "ed7416c2",
   "metadata": {},
   "source": [
    "Program to check whether the given number is odd or even and positive or negative"
   ]
  },
  {
   "cell_type": "code",
   "execution_count": 1,
   "id": "4a783927",
   "metadata": {},
   "outputs": [
    {
     "name": "stdout",
     "output_type": "stream",
     "text": [
      "Enter a number : 5\n",
      "Given number 5 is a positive odd number\n"
     ]
    }
   ],
   "source": [
    "number = int(input(\"Enter a number : \"))\n",
    "\n",
    "if number == 0 :\n",
    "    print(\"Given number is zero\")\n",
    "    \n",
    "elif number % 2 == 0 :\n",
    "    if number > 0 :\n",
    "        print(f'Given number {number} is a positive even number')\n",
    "    else :\n",
    "        print(f'Given number {number} is a negative even number')\n",
    "else :\n",
    "    if number > 0 :\n",
    "        print(f'Given number {number} is a positive odd number')\n",
    "    else :\n",
    "        print(f'Given number {number} is a negative odd number')"
   ]
  }
 ],
 "metadata": {
  "kernelspec": {
   "display_name": "Python 3 (ipykernel)",
   "language": "python",
   "name": "python3"
  },
  "language_info": {
   "codemirror_mode": {
    "name": "ipython",
    "version": 3
   },
   "file_extension": ".py",
   "mimetype": "text/x-python",
   "name": "python",
   "nbconvert_exporter": "python",
   "pygments_lexer": "ipython3",
   "version": "3.11.4"
  }
 },
 "nbformat": 4,
 "nbformat_minor": 5
}
