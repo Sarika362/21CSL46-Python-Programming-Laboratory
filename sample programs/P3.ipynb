{
 "cells": [
  {
   "cell_type": "markdown",
   "id": "039b1be0",
   "metadata": {},
   "source": [
    "Program to find sum of N natural numbers"
   ]
  },
  {
   "cell_type": "code",
   "execution_count": 1,
   "id": "7b76e297",
   "metadata": {},
   "outputs": [
    {
     "name": "stdout",
     "output_type": "stream",
     "text": [
      "Enter a number : 10\n",
      "Sum of 10 natural numbers = 55\n"
     ]
    }
   ],
   "source": [
    "num = int(input(\"Enter a number : \"))\n",
    "\n",
    "sum = 0\n",
    "for i in range(1, num+1) :\n",
    "    sum += i\n",
    "    \n",
    "print(f'Sum of {num} natural numbers = {sum}')"
   ]
  }
 ],
 "metadata": {
  "kernelspec": {
   "display_name": "Python 3 (ipykernel)",
   "language": "python",
   "name": "python3"
  },
  "language_info": {
   "codemirror_mode": {
    "name": "ipython",
    "version": 3
   },
   "file_extension": ".py",
   "mimetype": "text/x-python",
   "name": "python",
   "nbconvert_exporter": "python",
   "pygments_lexer": "ipython3",
   "version": "3.11.4"
  }
 },
 "nbformat": 4,
 "nbformat_minor": 5
}
