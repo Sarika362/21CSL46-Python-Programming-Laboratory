{
 "cells": [
  {
   "cell_type": "markdown",
   "id": "b4328c44",
   "metadata": {},
   "source": [
    "Program to print the fibonacci series upto N."
   ]
  },
  {
   "cell_type": "code",
   "execution_count": 1,
   "id": "d46fb811",
   "metadata": {},
   "outputs": [
    {
     "name": "stdout",
     "output_type": "stream",
     "text": [
      "Enter a number : 6\n",
      "Fibonacci series upto 6\n",
      "0 1 1 2 3 5 "
     ]
    }
   ],
   "source": [
    "num = int(input(\"Enter a number : \"))\n",
    "\n",
    "n1, n2 = 0, 1\n",
    "\n",
    "print(\"Fibonacci series upto\",num)\n",
    "print(n1,end=' ')\n",
    "print(n2,end=' ')\n",
    "\n",
    "for i in range(2,num) :\n",
    "    fib = n1 + n2\n",
    "    print(fib, end=' ')\n",
    "    n1, n2 = n2, fib"
   ]
  }
 ],
 "metadata": {
  "kernelspec": {
   "display_name": "Python 3 (ipykernel)",
   "language": "python",
   "name": "python3"
  },
  "language_info": {
   "codemirror_mode": {
    "name": "ipython",
    "version": 3
   },
   "file_extension": ".py",
   "mimetype": "text/x-python",
   "name": "python",
   "nbconvert_exporter": "python",
   "pygments_lexer": "ipython3",
   "version": "3.11.4"
  }
 },
 "nbformat": 4,
 "nbformat_minor": 5
}
