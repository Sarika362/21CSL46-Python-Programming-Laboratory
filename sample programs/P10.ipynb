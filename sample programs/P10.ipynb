{
 "cells": [
  {
   "cell_type": "markdown",
   "id": "4117e7c8",
   "metadata": {},
   "source": [
    "Program to display table of any given number in a formatted manner."
   ]
  },
  {
   "cell_type": "code",
   "execution_count": 1,
   "id": "da90d619",
   "metadata": {},
   "outputs": [
    {
     "name": "stdout",
     "output_type": "stream",
     "text": [
      "Enter a number : 5\n",
      "Multiplication Table of 5\n",
      "5 * 0  = 0\n",
      "5 * 1  = 5\n",
      "5 * 2  = 10\n",
      "5 * 3  = 15\n",
      "5 * 4  = 20\n",
      "5 * 5  = 25\n",
      "5 * 6  = 30\n",
      "5 * 7  = 35\n",
      "5 * 8  = 40\n",
      "5 * 9  = 45\n",
      "5 * 10  = 50\n"
     ]
    }
   ],
   "source": [
    "number = int(input(\"Enter a number : \"))\n",
    "\n",
    "print(\"Multiplication Table of\",number)\n",
    "\n",
    "for i in range(11) :\n",
    "    print(f'{number} * {i}  = {number*i}')"
   ]
  }
 ],
 "metadata": {
  "kernelspec": {
   "display_name": "Python 3 (ipykernel)",
   "language": "python",
   "name": "python3"
  },
  "language_info": {
   "codemirror_mode": {
    "name": "ipython",
    "version": 3
   },
   "file_extension": ".py",
   "mimetype": "text/x-python",
   "name": "python",
   "nbconvert_exporter": "python",
   "pygments_lexer": "ipython3",
   "version": "3.11.4"
  }
 },
 "nbformat": 4,
 "nbformat_minor": 5
}
