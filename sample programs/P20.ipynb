{
 "cells": [
  {
   "cell_type": "markdown",
   "id": "2115b68a",
   "metadata": {},
   "source": [
    "Program to print Armstrong numbers between given range."
   ]
  },
  {
   "cell_type": "code",
   "execution_count": 1,
   "id": "cb9bec98",
   "metadata": {},
   "outputs": [
    {
     "name": "stdout",
     "output_type": "stream",
     "text": [
      "370\n",
      "371\n",
      "407\n",
      "1634\n"
     ]
    }
   ],
   "source": [
    "lower=200\n",
    "upper=2000\n",
    "for num in range(lower,upper+1):\n",
    "    order=len(str(num))\n",
    "    sum=0\n",
    "    temp=num\n",
    "    while temp>0:\n",
    "        digit=temp%10\n",
    "        sum+=digit**order\n",
    "        temp//=10\n",
    "    if num==sum:\n",
    "        print(num)"
   ]
  }
 ],
 "metadata": {
  "kernelspec": {
   "display_name": "Python 3 (ipykernel)",
   "language": "python",
   "name": "python3"
  },
  "language_info": {
   "codemirror_mode": {
    "name": "ipython",
    "version": 3
   },
   "file_extension": ".py",
   "mimetype": "text/x-python",
   "name": "python",
   "nbconvert_exporter": "python",
   "pygments_lexer": "ipython3",
   "version": "3.11.4"
  }
 },
 "nbformat": 4,
 "nbformat_minor": 5
}
