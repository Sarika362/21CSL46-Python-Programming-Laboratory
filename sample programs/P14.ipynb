{
 "cells": [
  {
   "cell_type": "markdown",
   "id": "5fc2c556",
   "metadata": {},
   "source": [
    "Program to print all prime numbers upto N."
   ]
  },
  {
   "cell_type": "code",
   "execution_count": 1,
   "id": "d780e687",
   "metadata": {},
   "outputs": [
    {
     "name": "stdout",
     "output_type": "stream",
     "text": [
      "Enter a number : 10\n",
      "Prime numbers upto 10\n",
      "2 3 5 7 "
     ]
    }
   ],
   "source": [
    "num = int(input(\"Enter a number : \"))\n",
    "\n",
    "print(\"Prime numbers upto\",num)\n",
    "\n",
    "for n in range(1,num+1) :\n",
    "    if n > 1 :\n",
    "        for i in range(2,n) :\n",
    "            if n % i == 0 :\n",
    "                break\n",
    "        else :\n",
    "            print(n, end = ' ')"
   ]
  },
  {
   "cell_type": "code",
   "execution_count": 2,
   "id": "0cd6dea2",
   "metadata": {},
   "outputs": [
    {
     "name": "stdout",
     "output_type": "stream",
     "text": [
      "Enter a number : 15\n",
      "2\n",
      "3\n",
      "5\n",
      "7\n",
      "11\n",
      "13\n"
     ]
    }
   ],
   "source": [
    "import math\n",
    "def isPrime(n):\n",
    "    if (n <= 1):\n",
    "        return False\n",
    "    for i in range(2, int(math.sqrt(n))+1 ):\n",
    "        if (n % i == 0):\n",
    "            return False\n",
    "    return True\n",
    "\n",
    "n = int(input(\"Enter a number : \"))\n",
    "for i in range(2, n+1):\n",
    "    if isPrime(i):\n",
    "        print(i)"
   ]
  }
 ],
 "metadata": {
  "kernelspec": {
   "display_name": "Python 3 (ipykernel)",
   "language": "python",
   "name": "python3"
  },
  "language_info": {
   "codemirror_mode": {
    "name": "ipython",
    "version": 3
   },
   "file_extension": ".py",
   "mimetype": "text/x-python",
   "name": "python",
   "nbconvert_exporter": "python",
   "pygments_lexer": "ipython3",
   "version": "3.11.4"
  }
 },
 "nbformat": 4,
 "nbformat_minor": 5
}
