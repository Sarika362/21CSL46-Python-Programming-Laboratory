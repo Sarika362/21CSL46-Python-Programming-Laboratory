{
 "cells": [
  {
   "cell_type": "markdown",
   "id": "f1dc5cca",
   "metadata": {},
   "source": [
    "Write a program to convert celsius to fahrenheit or vice versa"
   ]
  },
  {
   "cell_type": "code",
   "execution_count": 1,
   "id": "e0c5a010",
   "metadata": {},
   "outputs": [
    {
     "name": "stdout",
     "output_type": "stream",
     "text": [
      "Enter the value in celsius : 25\n",
      "25 °c is equivalent to 77.0 °f\n",
      "Enter the value in fahrenheit : 77\n",
      "77 °f is equivalent to 24.750000000000004 °c\n"
     ]
    }
   ],
   "source": [
    "celsius = int(input('Enter the value in celsius : '))\n",
    "fahrenheit = (celsius * 1.8) + 32\n",
    "print(f'{celsius} °c is equivalent to {fahrenheit} °f')\n",
    "\n",
    "fahrenheit = int(input('Enter the value in fahrenheit : '))\n",
    "celsius = (fahrenheit - 32) * 0.55\n",
    "print(f'{fahrenheit} °f is equivalent to {celsius} °c')\n"
   ]
  }
 ],
 "metadata": {
  "kernelspec": {
   "display_name": "Python 3 (ipykernel)",
   "language": "python",
   "name": "python3"
  },
  "language_info": {
   "codemirror_mode": {
    "name": "ipython",
    "version": 3
   },
   "file_extension": ".py",
   "mimetype": "text/x-python",
   "name": "python",
   "nbconvert_exporter": "python",
   "pygments_lexer": "ipython3",
   "version": "3.11.4"
  }
 },
 "nbformat": 4,
 "nbformat_minor": 5
}
