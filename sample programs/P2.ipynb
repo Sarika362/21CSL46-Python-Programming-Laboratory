{
 "cells": [
  {
   "cell_type": "markdown",
   "id": "a296a963",
   "metadata": {},
   "source": [
    "Program to design simple calculator"
   ]
  },
  {
   "cell_type": "code",
   "execution_count": 1,
   "id": "12c00a47",
   "metadata": {},
   "outputs": [
    {
     "name": "stdout",
     "output_type": "stream",
     "text": [
      "Enter first number : 20\n",
      "Enter second number : 4\n",
      "Sum of given two numbers :  24\n",
      "Difference of given two numbers :  16\n",
      "Product of given two numbers :  80\n",
      "Quotient of division of given two numbers :  5.0\n",
      "Result of floor division of given two numbers :  5\n",
      "Remainder of division of given two numbers :  0\n"
     ]
    }
   ],
   "source": [
    "num1 = int(input(\"Enter first number : \"))\n",
    "num2 = int(input(\"Enter second number : \"))\n",
    "\n",
    "sum = num1 + num2\n",
    "print('Sum of given two numbers : ', sum)\n",
    "\n",
    "diff = num1 - num2\n",
    "print('Difference of given two numbers : ', diff)\n",
    "\n",
    "product = num1 * num2\n",
    "print('Product of given two numbers : ', product)\n",
    "\n",
    "quotient = num1 / num2\n",
    "print('Quotient of division of given two numbers : ', quotient)\n",
    "\n",
    "res = num1 // num2\n",
    "print('Result of floor division of given two numbers : ', res)\n",
    "\n",
    "rem = num1 % num2\n",
    "print('Remainder of division of given two numbers : ', rem)\n"
   ]
  },
  {
   "cell_type": "code",
   "execution_count": 2,
   "id": "9c85e690",
   "metadata": {},
   "outputs": [
    {
     "name": "stdout",
     "output_type": "stream",
     "text": [
      "Enter integer 1:20\n",
      "Enter integer 2:5\n",
      "Select the operation to be done:(+,-,*,/, //, %)*\n",
      "Result = 100\n"
     ]
    }
   ],
   "source": [
    "a=int(input(\"Enter integer 1:\"))\n",
    "b=int(input(\"Enter integer 2:\"))\n",
    "\n",
    "op=input(\"Select the operation to be done:(+,-,*,/, //, %)\")\n",
    "if op == '+':\n",
    "    print(\"Result =\",a+b)\n",
    "elif op == '-':\n",
    "    print(\"Result =\",a-b)\n",
    "elif op == '*':\n",
    "    print(\"Result =\",a*b)\n",
    "elif op == '/':\n",
    "    print(\"Result =\",a//b)\n",
    "elif op == '//':\n",
    "    print(\"Result =\",a//b)\n",
    "elif op == '%':\n",
    "    print(\"Result =\",a//b)\n",
    "else :\n",
    "    print('Invalid operator!')"
   ]
  },
  {
   "cell_type": "code",
   "execution_count": 3,
   "id": "abade3ee",
   "metadata": {},
   "outputs": [
    {
     "name": "stdout",
     "output_type": "stream",
     "text": [
      "please Select the Operation you want to Perfom\n",
      "\n",
      "1 = Add\n",
      "\n",
      "2 = Subtract\n",
      "\n",
      "3 = Multiply\n",
      "\n",
      "4 = Divide\n",
      "Choose Operation 1, 2, 3, 4 = 3\n",
      "First Number = 9\n",
      "Second Number = 5\n",
      "9  *  5  =  45\n"
     ]
    }
   ],
   "source": [
    "print('''please Select the Operation you want to Perfom\n",
    "\\n1 = Add\n",
    "\\n2 = Subtract\n",
    "\\n3 = Multiply\n",
    "\\n4 = Divide''')\n",
    "\n",
    "opt = int(input(\"Choose Operation 1, 2, 3, 4 = \"))\n",
    "n1 = int(input(\"First Number = \"))\n",
    "n2 = int(input(\"Second Number = \"))\n",
    "\n",
    "if opt == 1:\n",
    "    print(n1, ' + ', n2, ' = ', n1 + n2)\n",
    "elif opt == 2:\n",
    "    print(n1, ' - ', n2, ' = ', n1 - n2)\n",
    "elif opt == 3:\n",
    "    print(n1, ' * ', n2, ' = ', n1 * n2)\n",
    "elif opt == 4:\n",
    "    print(n1, ' / ', n2, ' = ', n1 / n2)\n",
    "else:\n",
    "    print('Invalid Input')"
   ]
  },
  {
   "cell_type": "code",
   "execution_count": 4,
   "id": "47c37d72",
   "metadata": {},
   "outputs": [
    {
     "name": "stdout",
     "output_type": "stream",
     "text": [
      "Enter the value of a : 6\n",
      "Enter the value of b : 3\n",
      "Sum        :  6 + 3 = 9\n",
      "Difference :  6 - 3 = 3\n",
      "Product    :  6 * 3 = 18\n",
      "Quotient   :  6 / 3 = 2.0\n",
      "Remainder  :  6 % 3 = 0\n"
     ]
    }
   ],
   "source": [
    "a = int(input('Enter the value of a : '))\n",
    "b = int(input('Enter the value of b : '))\n",
    "\n",
    "c = a + b\n",
    "d = a - b\n",
    "e = a * b\n",
    "f = a / b\n",
    "g = a % b\n",
    "\n",
    "print(f'Sum        :  {a} + {b} = {c}')\n",
    "print(f'Difference :  {a} - {b} = {d}')\n",
    "print(f'Product    :  {a} * {b} = {e}')\n",
    "print(f'Quotient   :  {a} / {b} = {f}')\n",
    "print(f'Remainder  :  {a} % {b} = {g}')\n"
   ]
  }
 ],
 "metadata": {
  "kernelspec": {
   "display_name": "Python 3 (ipykernel)",
   "language": "python",
   "name": "python3"
  },
  "language_info": {
   "codemirror_mode": {
    "name": "ipython",
    "version": 3
   },
   "file_extension": ".py",
   "mimetype": "text/x-python",
   "name": "python",
   "nbconvert_exporter": "python",
   "pygments_lexer": "ipython3",
   "version": "3.11.4"
  }
 },
 "nbformat": 4,
 "nbformat_minor": 5
}
