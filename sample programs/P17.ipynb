{
 "cells": [
  {
   "cell_type": "markdown",
   "id": "e479caaf",
   "metadata": {},
   "source": [
    "Program to print a pattern."
   ]
  },
  {
   "cell_type": "code",
   "execution_count": 1,
   "id": "028dc807",
   "metadata": {},
   "outputs": [
    {
     "name": "stdout",
     "output_type": "stream",
     "text": [
      "Enter the number of rows you want to print:4\n",
      "*\n",
      "**\n",
      "***\n",
      "****\n",
      "****\n",
      "***\n",
      "**\n",
      "*\n"
     ]
    }
   ],
   "source": [
    "n = int(input(\"Enter the number of rows you want to print:\"))\n",
    "for i in range(1,n+1):\n",
    "    print(i*\"*\")\n",
    "for i in range(n,0,-1):\n",
    "    print(i*\"*\")"
   ]
  }
 ],
 "metadata": {
  "kernelspec": {
   "display_name": "Python 3 (ipykernel)",
   "language": "python",
   "name": "python3"
  },
  "language_info": {
   "codemirror_mode": {
    "name": "ipython",
    "version": 3
   },
   "file_extension": ".py",
   "mimetype": "text/x-python",
   "name": "python",
   "nbconvert_exporter": "python",
   "pygments_lexer": "ipython3",
   "version": "3.11.4"
  }
 },
 "nbformat": 4,
 "nbformat_minor": 5
}
