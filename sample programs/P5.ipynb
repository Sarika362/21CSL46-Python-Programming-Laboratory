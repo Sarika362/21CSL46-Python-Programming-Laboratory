{
 "cells": [
  {
   "cell_type": "markdown",
   "id": "db33208b",
   "metadata": {},
   "source": [
    "Program to find the sum of numbers between given range."
   ]
  },
  {
   "cell_type": "code",
   "execution_count": 1,
   "id": "6f0ead96",
   "metadata": {},
   "outputs": [
    {
     "name": "stdout",
     "output_type": "stream",
     "text": [
      "Enter the range of numbers (separated by ',') : \n",
      "5,10\n",
      "Sum of numbers between the given range = 45\n"
     ]
    }
   ],
   "source": [
    "print(\"Enter the range of numbers (separated by ',') : \")\n",
    "\n",
    "num1, num2 = input().split(',')\n",
    "num1 = int(num1)\n",
    "num2 = int(num2)\n",
    "\n",
    "sum = 0\n",
    "for i in range(num1, num2+1) :\n",
    "    sum += i\n",
    "    \n",
    "print(f'Sum of numbers between the given range = {sum}')"
   ]
  }
 ],
 "metadata": {
  "kernelspec": {
   "display_name": "Python 3 (ipykernel)",
   "language": "python",
   "name": "python3"
  },
  "language_info": {
   "codemirror_mode": {
    "name": "ipython",
    "version": 3
   },
   "file_extension": ".py",
   "mimetype": "text/x-python",
   "name": "python",
   "nbconvert_exporter": "python",
   "pygments_lexer": "ipython3",
   "version": "3.11.4"
  }
 },
 "nbformat": 4,
 "nbformat_minor": 5
}
