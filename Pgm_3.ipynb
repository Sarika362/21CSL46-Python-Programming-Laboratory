{
 "cells": [
  {
   "cell_type": "markdown",
   "id": "13a42651",
   "metadata": {},
   "source": [
    "a) Write a Python program that accepts a sentence and find the number of words, digits, uppercase letters and lowercase letters."
   ]
  },
  {
   "cell_type": "code",
   "execution_count": 1,
   "id": "b8e139ed",
   "metadata": {},
   "outputs": [
    {
     "name": "stdout",
     "output_type": "stream",
     "text": [
      "Enter a sentence : Now its 12 AM\n",
      "This sentence has 4 words\n",
      "This sentence has 2 digits 3 uppercase letters 5 lower case letters\n"
     ]
    }
   ],
   "source": [
    "sentence = input(\"Enter a sentence : \")\n",
    "\n",
    "wordList = sentence.split(\" \")\n",
    "print(\"This sentence has\", len(wordList), \"words\")\n",
    "\n",
    "digCnt = upCnt = loCnt = 0\n",
    "\n",
    "for ch in sentence:\n",
    "    if '0' <= ch <= '9':\n",
    "        digCnt += 1\n",
    "        \n",
    "    elif 'A' <= ch <= 'Z':\n",
    "        upCnt += 1\n",
    "        \n",
    "    elif 'a' <= ch <= 'z':\n",
    "        loCnt += 1\n",
    "        \n",
    "print(\"This sentence has\", digCnt, \"digits\", upCnt, \n",
    "      \"uppercase letters\", loCnt, \"lower case letters\")\n"
   ]
  },
  {
   "cell_type": "code",
   "execution_count": 2,
   "id": "e7872d99",
   "metadata": {},
   "outputs": [
    {
     "name": "stdout",
     "output_type": "stream",
     "text": [
      "Enter a sentence : Now time is 6 pm\n",
      "This sentence has 5 words\n",
      "No of digits : 1\n",
      "No of Uppercase characters : 1 \n",
      "No of Lowercase characters : 10\n"
     ]
    }
   ],
   "source": [
    "sentence = input(\"Enter a sentence : \")\n",
    "\n",
    "wordList = sentence.split(\" \")\n",
    "print(\"This sentence has\", len(wordList), \"words\")\n",
    "\n",
    "digCnt = upCnt = loCnt = 0\n",
    "\n",
    "for ch in sentence:\n",
    "    if ch.isdigit():\n",
    "        digCnt += 1\n",
    "        \n",
    "    elif ch.isupper():\n",
    "        upCnt += 1\n",
    "        \n",
    "    elif ch.islower():\n",
    "        loCnt += 1\n",
    "\n",
    "print(f\"No of digits : {digCnt}\\nNo of Uppercase characters : {upCnt}\",\n",
    "      f\"\\nNo of Lowercase characters : {loCnt}\")"
   ]
  },
  {
   "cell_type": "markdown",
   "id": "63394f13",
   "metadata": {},
   "source": [
    "b) Write a Python program to find the string similarity between two given strings\n",
    "\n",
    "Sample Output: \\\n",
    "Original string: \\\n",
    "Python Exercises \\\n",
    "Python Exercises \\\n",
    "Similarity between two said strings: \\\n",
    "1.0 \n",
    "\n",
    "Sample Output: \\\n",
    "Original string: \\\n",
    "Python Exercises \\\n",
    "Python Exercise \\\n",
    "Similarity between two said strings: \\\n",
    "0.967741935483871"
   ]
  },
  {
   "cell_type": "code",
   "execution_count": 3,
   "id": "19ed83ab",
   "metadata": {},
   "outputs": [
    {
     "name": "stdout",
     "output_type": "stream",
     "text": [
      "Enter String 1 \n",
      "python exercises\n",
      "Enter String 2 \n",
      "Python Exercise\n",
      "Similarity between two said strings:\n",
      "0.8125\n"
     ]
    }
   ],
   "source": [
    "str1 = input(\"Enter String 1 \\n\")\n",
    "str2 = input(\"Enter String 2 \\n\")\n",
    "\n",
    "if len(str2) < len(str1):\n",
    "    short = len(str2)\n",
    "    long = len(str1)\n",
    "    \n",
    "else:\n",
    "    short = len(str1)\n",
    "    long = len(str2)\n",
    "    \n",
    "matchCnt = 0\n",
    "for i in range(short):\n",
    "    if str1[i] == str2[i]:\n",
    "        matchCnt += 1\n",
    "        \n",
    "print(\"Similarity between two said strings:\")\n",
    "print(matchCnt/long)"
   ]
  }
 ],
 "metadata": {
  "kernelspec": {
   "display_name": "Python 3 (ipykernel)",
   "language": "python",
   "name": "python3"
  },
  "language_info": {
   "codemirror_mode": {
    "name": "ipython",
    "version": 3
   },
   "file_extension": ".py",
   "mimetype": "text/x-python",
   "name": "python",
   "nbconvert_exporter": "python",
   "pygments_lexer": "ipython3",
   "version": "3.11.4"
  }
 },
 "nbformat": 4,
 "nbformat_minor": 5
}
