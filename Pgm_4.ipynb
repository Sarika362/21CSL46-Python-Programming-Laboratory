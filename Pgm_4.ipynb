{
 "cells": [
  {
   "cell_type": "markdown",
   "id": "c415e426",
   "metadata": {},
   "source": [
    "a) Write a python program to implement insertion sort and merge sort using lists."
   ]
  },
  {
   "cell_type": "code",
   "execution_count": 1,
   "id": "855dfa2c",
   "metadata": {},
   "outputs": [
    {
     "name": "stdout",
     "output_type": "stream",
     "text": [
      "\n",
      "Unsorted List\n",
      "[552, 67, 990, 877, 384]\n",
      "Sorting using Insertion Sort\n",
      "[67, 384, 552, 877, 990]\n",
      "Sorting using Merge Sort\n",
      "[67, 384, 552, 877, 990]\n"
     ]
    }
   ],
   "source": [
    "import random\n",
    "def insertion_sort(arr):\n",
    "    for i in range(1, len(arr)):\n",
    "        key = arr[i]\n",
    "        j = i - 1\n",
    "        while j >= 0 and key < arr[j]:\n",
    "            arr[j + 1] = arr[j]\n",
    "            j -= 1\n",
    "        arr[j + 1] = key\n",
    "        \n",
    "def merge_sort(lst):\n",
    "    if len(lst) > 1:\n",
    "        mid = len(lst) // 2\n",
    "        left_half = lst[:mid]\n",
    "        right_half = lst[mid:]\n",
    "        merge_sort(left_half)\n",
    "        merge_sort(right_half)\n",
    "        i = j = k = 0\n",
    "        while i < len(left_half) and j < len(right_half):\n",
    "            if left_half[i] < right_half[j]:\n",
    "                lst[k] = left_half[i]\n",
    "                i += 1\n",
    "            else:\n",
    "                lst[k] = right_half[j]\n",
    "                j += 1\n",
    "            k += 1\n",
    "        while i < len(left_half):\n",
    "            lst[k] = left_half[i]\n",
    "            i += 1\n",
    "            k += 1\n",
    "        while j < len(right_half):\n",
    "            lst[k] = right_half[j]\n",
    "            j += 1\n",
    "            k += 1\n",
    "    return lst\n",
    "\n",
    "my_list1, my_list2 = [], []\n",
    "for i in range(5):\n",
    "    my_list1.append(random.randint(0,999))\n",
    "print(\"\\nUnsorted List\")\n",
    "print(my_list1)\n",
    "my_list2 = my_list1\n",
    "print(\"Sorting using Insertion Sort\")\n",
    "insertion_sort(my_list1)\n",
    "print(my_list1)\n",
    "print(\"Sorting using Merge Sort\")\n",
    "merge_sort(my_list2)\n",
    "print(my_list2)"
   ]
  },
  {
   "cell_type": "markdown",
   "id": "994ca5b2",
   "metadata": {},
   "source": [
    "b) Write a program to convert roman numbers in to integer values using dictionaries."
   ]
  },
  {
   "cell_type": "code",
   "execution_count": 2,
   "id": "9980d635",
   "metadata": {},
   "outputs": [
    {
     "name": "stdout",
     "output_type": "stream",
     "text": [
      "Enter a Roman Number : MCMIV\n",
      "Equivalent decimal number is : 1904\n"
     ]
    }
   ],
   "source": [
    "def roman2Dec(romStr):\n",
    "    roman_dict ={'M': 1000, 'D': 500, 'C': 100, 'L': 50, 'X': 10, 'V': 5, 'I': 1 }\n",
    "    # Analyze string backwards \n",
    "    romanBack = list(romStr)[::-1]\n",
    "    value = 0\n",
    "    # To keep track of order\n",
    "    rightVal = roman_dict[romanBack[0]]\n",
    "    for numeral in romanBack:\n",
    "        leftVal = roman_dict[numeral]\n",
    "        # Check for subtraction\n",
    "        if leftVal < rightVal:\n",
    "            value -= leftVal\n",
    "        else:\n",
    "            value += leftVal\n",
    "        rightVal = leftVal\n",
    "    return value\n",
    "\n",
    "romanStr = input(\"Enter a Roman Number : \")\n",
    "print(F\"Equivalent decimal number is : {roman2Dec(romanStr)}\")"
   ]
  },
  {
   "cell_type": "code",
   "execution_count": 3,
   "id": "f5ef6447",
   "metadata": {},
   "outputs": [
    {
     "name": "stdout",
     "output_type": "stream",
     "text": [
      "Enter a Roman Number : MCMIV\n",
      "Equivalent decimal number is : 1904\n"
     ]
    }
   ],
   "source": [
    "def roman2Dec(romStr):\n",
    "    roman_dict ={'M': 1000, 'D': 500, 'C': 100, 'L': 50, 'X': 10, 'V': 5, 'I': 1 }\n",
    "    # Analyze string backwards \n",
    "    roman = list(romStr)\n",
    "    value = 0\n",
    "    # To keep track of order\n",
    "    rightVal = roman_dict[roman[0]]\n",
    "    for numeral in roman:\n",
    "        leftVal = roman_dict[numeral]\n",
    "        # Check for subtraction\n",
    "        if leftVal < rightVal:\n",
    "            value -= leftVal\n",
    "        else:\n",
    "            value += leftVal\n",
    "        rightVal = leftVal\n",
    "    return value\n",
    "\n",
    "romanStr = input(\"Enter a Roman Number : \")\n",
    "print(F\"Equivalent decimal number is : {roman2Dec(romanStr)}\")"
   ]
  }
 ],
 "metadata": {
  "kernelspec": {
   "display_name": "Python 3 (ipykernel)",
   "language": "python",
   "name": "python3"
  },
  "language_info": {
   "codemirror_mode": {
    "name": "ipython",
    "version": 3
   },
   "file_extension": ".py",
   "mimetype": "text/x-python",
   "name": "python",
   "nbconvert_exporter": "python",
   "pygments_lexer": "ipython3",
   "version": "3.11.4"
  }
 },
 "nbformat": 4,
 "nbformat_minor": 5
}
