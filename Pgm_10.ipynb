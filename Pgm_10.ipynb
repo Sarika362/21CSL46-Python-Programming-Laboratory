{
 "cells": [
  {
   "cell_type": "markdown",
   "id": "26befe98",
   "metadata": {},
   "source": [
    "a) Write a python program to combine select pages from many PDFs"
   ]
  },
  {
   "cell_type": "code",
   "execution_count": 1,
   "id": "aadf5374",
   "metadata": {},
   "outputs": [
    {
     "name": "stdout",
     "output_type": "stream",
     "text": [
      "Enter page number you want combine from multiple documents 1\n",
      "Combined pdf named 'output' is created\n"
     ]
    }
   ],
   "source": [
    "from PyPDF2 import PdfWriter, PdfReader\n",
    "\n",
    "num = int(input(\"Enter page number you want combine from multiple documents \"))\n",
    "\n",
    "pdf1 = open('birds.pdf', 'rb')\n",
    "pdf2 = open('birdspic.pdf', 'rb')\n",
    "\n",
    "pdf_writer = PdfWriter()\n",
    "\n",
    "pdf1_reader = PdfReader(pdf1)\n",
    "page = pdf1_reader.pages[num - 1]\n",
    "pdf_writer.add_page(page)\n",
    "\n",
    "pdf2_reader = PdfReader(pdf2)\n",
    "page = pdf2_reader.pages[num - 1]\n",
    "pdf_writer.add_page(page)\n",
    "\n",
    "with open('output.pdf', 'wb') as output:\n",
    "    pdf_writer.write(output)\n",
    "\n",
    "print(\"Combined pdf named 'output' is created\")"
   ]
  },
  {
   "cell_type": "markdown",
   "id": "283be72a",
   "metadata": {},
   "source": [
    "b) Write a python program to fetch current weather data from the JSON file"
   ]
  },
  {
   "cell_type": "code",
   "execution_count": 2,
   "id": "855440eb",
   "metadata": {},
   "outputs": [
    {
     "name": "stdout",
     "output_type": "stream",
     "text": [
      "Current temperature: 15.45°C\n",
      "Humidity: 64%\n",
      "Weather description: clear sky\n"
     ]
    }
   ],
   "source": [
    "import json\n",
    "\n",
    "# Load the JSON data from file\n",
    "with open('weather_data.json') as f:\n",
    "    data = json.load(f)\n",
    "    \n",
    "# Extract the required weather data\n",
    "current_temp = data['main']['temp']\n",
    "humidity = data['main']['humidity']\n",
    "weather_desc = data['weather'][0]['description']\n",
    "\n",
    "# Display the weather data\n",
    "print(f\"Current temperature: {current_temp}°C\")\n",
    "print(f\"Humidity: {humidity}%\")\n",
    "print(f\"Weather description: {weather_desc}\")"
   ]
  }
 ],
 "metadata": {
  "kernelspec": {
   "display_name": "Python 3 (ipykernel)",
   "language": "python",
   "name": "python3"
  },
  "language_info": {
   "codemirror_mode": {
    "name": "ipython",
    "version": 3
   },
   "file_extension": ".py",
   "mimetype": "text/x-python",
   "name": "python",
   "nbconvert_exporter": "python",
   "pygments_lexer": "ipython3",
   "version": "3.11.4"
  }
 },
 "nbformat": 4,
 "nbformat_minor": 5
}
