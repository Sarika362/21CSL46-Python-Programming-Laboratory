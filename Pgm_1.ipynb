{
 "cells": [
  {
   "cell_type": "markdown",
   "id": "33e43127",
   "metadata": {},
   "source": [
    "a) Write a python program to find the best of two test average marks out    of three test’s marks accepted from the user"
   ]
  },
  {
   "cell_type": "code",
   "execution_count": 1,
   "id": "2b79ea67",
   "metadata": {},
   "outputs": [
    {
     "name": "stdout",
     "output_type": "stream",
     "text": [
      "Enter marks for test1 : 30\n",
      "Enter marks for test2 : 46\n",
      "Enter marks for test3 : 40\n",
      "Average of best two test marks out of three test’s marks is 43.0\n"
     ]
    }
   ],
   "source": [
    "m1 = int(input(\"Enter marks for test1 : \"))\n",
    "m2 = int(input(\"Enter marks for test2 : \"))\n",
    "m3 = int(input(\"Enter marks for test3 : \"))\n",
    "if m1 <= m2 and m1 <= m3:\n",
    "    avgMarks = (m2 + m3) / 2\n",
    "elif m2 <= m1 and m2 <= m3:\n",
    "    avgMarks = (m1 + m3) / 2\n",
    "else :\n",
    "    avgMarks = (m1 + m2) / 2\n",
    "print(\"Average of best two test marks out of three test’s marks is\", \n",
    "avgMarks);"
   ]
  },
  {
   "cell_type": "markdown",
   "id": "02549875",
   "metadata": {},
   "source": [
    "b) Develop a Python program to check whether a given number is palindrome or not and also count the number of occurrences of each digit in the input number"
   ]
  },
  {
   "cell_type": "code",
   "execution_count": 2,
   "id": "9aac6993",
   "metadata": {},
   "outputs": [
    {
     "name": "stdout",
     "output_type": "stream",
     "text": [
      "Enter a value : 1236321\n",
      "Palindrome\n",
      "1 appears 2 times\n",
      "2 appears 2 times\n",
      "3 appears 2 times\n",
      "6 appears 1 times\n"
     ]
    }
   ],
   "source": [
    "val = int(input(\"Enter a value : \"))\n",
    "str_val = str(val)\n",
    "if str_val == str_val[::-1]:\n",
    "     print(\"Palindrome\")\n",
    "else:\n",
    "    print(\"Not Palindrome\")\n",
    "for i in range(10):\n",
    "    if str_val.count(str(i)) > 0:\n",
    "        print(str(i), \"appears\", str_val.count(str(i)),\"times\")"
   ]
  },
  {
   "cell_type": "code",
   "execution_count": 3,
   "id": "587a30e3",
   "metadata": {},
   "outputs": [
    {
     "name": "stdout",
     "output_type": "stream",
     "text": [
      "Enter a num:546545645\n",
      "The num 546545645 is palindrome\n",
      "The occurance of 0 is 0\n",
      "1 is 0\n",
      "2 is 0\n",
      "3 is 0\n",
      "4 is 3\n",
      "5 is 4\n",
      "6 is 2\n",
      "7 is 0\n",
      "8 is 0\n",
      "9 is 0\n"
     ]
    }
   ],
   "source": [
    "x=int(input(\"Enter a num:\"))\n",
    "c0,c1,c2,c3,c4,c5,c6,c7,c8,c9=0,0,0,0,0,0,0,0,0,0\n",
    "num=x\n",
    "rev=0\n",
    "while x>0:\n",
    "    r = x % 10\n",
    "    rev = rev*10 + r\n",
    "    x //= 10\n",
    "    if r==0:\n",
    "        c0+=1\n",
    "    elif r==1:\n",
    "        c1+=1\n",
    "    elif r==2:\n",
    "        c2+=1\n",
    "    elif r==3:\n",
    "        c3+=1\n",
    "    elif r==4:\n",
    "        c4+=1\n",
    "    elif r==5:\n",
    "        c5+=1\n",
    "    elif r==6:\n",
    "        c6+=1\n",
    "    elif r==7:\n",
    "        c7+=1\n",
    "    elif r==8:\n",
    "        c8+=1\n",
    "    elif r==9:\n",
    "        c9+=1\n",
    "        \n",
    "if rev==num:\n",
    "     print(\"The num {} is palindrome\".format(num))\n",
    "     print(\"The occurance of 0 is {0}\\n1 is {1}\\n2 is {2}\\n3 is {3}\\n\n",
    "           4 is {4}\\n5 is {5}\\n6 is {6}\\n7 is {7}\\n8 is {8}\\n\n",
    "           9 is {9}\".format(c0,c1,c2,c3,c4,c5,c6,c7,c8,c9))\n",
    "\n",
    "else:\n",
    "     print(\"The num {0} is not palindrome\".format(num))\n",
    "     print(\"The occurance of 0 is {0}\\n1 is {1}\\n2 is {2}\\n3 is {3}\\n\n",
    "           4 is {4}\\n5 is {5}\\n6 is {6}\\n7 is {7}\\n8 is {8}\\n\n",
    "           9 is {9}\".format(c0,c1,c2,c3,c4,c5,c6,c7,c8,c9))\n"
   ]
  }
 ],
 "metadata": {
  "kernelspec": {
   "display_name": "Python 3 (ipykernel)",
   "language": "python",
   "name": "python3"
  },
  "language_info": {
   "codemirror_mode": {
    "name": "ipython",
    "version": 3
   },
   "file_extension": ".py",
   "mimetype": "text/x-python",
   "name": "python",
   "nbconvert_exporter": "python",
   "pygments_lexer": "ipython3",
   "version": "3.11.4"
  }
 },
 "nbformat": 4,
 "nbformat_minor": 5
}
