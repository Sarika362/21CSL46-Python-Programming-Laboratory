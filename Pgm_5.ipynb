{
 "cells": [
  {
   "cell_type": "markdown",
   "id": "703018d5",
   "metadata": {},
   "source": [
    "a) Write a function called isphonenumber () to recognize a pattern 415-555-4242 without using regular expression and also write the code to recognize the same pattern using regular expression."
   ]
  },
  {
   "cell_type": "code",
   "execution_count": 1,
   "id": "d559d16a",
   "metadata": {},
   "outputs": [
    {
     "name": "stdout",
     "output_type": "stream",
     "text": [
      "Enter a phone number : 999-888-5656\n",
      "Without using Regular Expression\n",
      "Valid phone number\n",
      "Using Regular Expression\n",
      "Valid phone number\n"
     ]
    }
   ],
   "source": [
    "import re\n",
    "\n",
    "def isphonenumber(numStr):\n",
    "    if len(numStr) != 12:\n",
    "        return False\n",
    "    \n",
    "    for i in range(len(numStr)):\n",
    "        if i==3 or i==7:\n",
    "            if numStr[i] != \"-\":\n",
    "                return False\n",
    "            \n",
    "        else:\n",
    "            if numStr[i].isdigit() == False:\n",
    "                return False\n",
    "    return True\n",
    "\n",
    "def chkphonenumber(numStr):\n",
    "    ph_no_pattern = re.compile(r'^\\d{3}-\\d{3}-\\d{4}$')\n",
    "    \n",
    "    if ph_no_pattern.match(numStr):\n",
    "        return True\n",
    "    \n",
    "    else:\n",
    "        return False\n",
    "    \n",
    "ph_num = input(\"Enter a phone number : \")\n",
    "\n",
    "print(\"Without using Regular Expression\")\n",
    "\n",
    "if isphonenumber(ph_num):\n",
    "    print(\"Valid phone number\")\n",
    "    \n",
    "else:\n",
    "    print(\"Invalid phone number\")\n",
    "    \n",
    "print(\"Using Regular Expression\")\n",
    "\n",
    "if chkphonenumber(ph_num):\n",
    "    print(\"Valid phone number\")\n",
    "    \n",
    "else:\n",
    "    print(\"Invalid phone number\")"
   ]
  },
  {
   "cell_type": "code",
   "execution_count": 2,
   "id": "10c97cf2",
   "metadata": {},
   "outputs": [
    {
     "name": "stdout",
     "output_type": "stream",
     "text": [
      "Enter a phone number : 998-776-5443\n",
      "Without using Regular Expression\n",
      "Valid phone number\n",
      "Using Regular Expression\n",
      "Valid phone number\n"
     ]
    }
   ],
   "source": [
    "import re\n",
    "\n",
    "def isphonenumber(numStr):\n",
    "    if len(numStr) != 12:\n",
    "        return False\n",
    "    \n",
    "    for i in range(0,3):\n",
    "        if not numStr[i].isdigit() :\n",
    "            return False\n",
    "        \n",
    "    if numStr[3] != \"-\":\n",
    "        return False\n",
    "            \n",
    "    for i in range(4,7):\n",
    "        if not numStr[i].isdigit() :\n",
    "            return False\n",
    "        \n",
    "    if numStr[7] != \"-\":\n",
    "        return False\n",
    "    \n",
    "    for i in range(8,12):\n",
    "        if not numStr[i].isdigit() :\n",
    "            return False\n",
    "        \n",
    "    return True\n",
    "\n",
    "def chkphonenumber(numStr):\n",
    "    ph_no_pattern = re.compile(r'\\d{3}-\\d{3}-\\d{4}')\n",
    "    match = re.match(ph_no_pattern, numStr)\n",
    "    return match is not None\n",
    "    \n",
    "ph_num = input(\"Enter a phone number : \")\n",
    "\n",
    "print(\"Without using Regular Expression\")\n",
    "\n",
    "if isphonenumber(ph_num):\n",
    "    print(\"Valid phone number\")\n",
    "    \n",
    "else:\n",
    "    print(\"Invalid phone number\")\n",
    "    \n",
    "print(\"Using Regular Expression\")\n",
    "\n",
    "if chkphonenumber(ph_num):\n",
    "    print(\"Valid phone number\")\n",
    "    \n",
    "else:\n",
    "    print(\"Invalid phone number\")"
   ]
  },
  {
   "cell_type": "markdown",
   "id": "cef74213",
   "metadata": {},
   "source": [
    "b) Develop a python program that could search the text in a file for phone numbers (+919900889977) and email addresses (sample@gmail.com)"
   ]
  },
  {
   "cell_type": "code",
   "execution_count": 3,
   "id": "efe06e98",
   "metadata": {},
   "outputs": [
    {
     "name": "stdout",
     "output_type": "stream",
     "text": [
      "+911234567890\n",
      "sample5@gmail.com\n",
      "+911234566660\n",
      "samp@gmail.com\n"
     ]
    }
   ],
   "source": [
    "import re\n",
    "phone_regex = re.compile(r'\\+\\d{12}')\n",
    "\n",
    "email_regex = re.compile(r'[A-Za-z0-9._]+@[A-Za-z0-9]+\\.[A-Z|a-z]{2,}')\n",
    "\n",
    "with open('demo.txt', 'r') as f:\n",
    "    for line in f:\n",
    "        matches = phone_regex.findall(line)\n",
    "        for match in matches:\n",
    "            print(match)\n",
    "            \n",
    "        matches = email_regex.findall(line)\n",
    "        for match in matches:\n",
    "            print(match)"
   ]
  }
 ],
 "metadata": {
  "kernelspec": {
   "display_name": "Python 3 (ipykernel)",
   "language": "python",
   "name": "python3"
  },
  "language_info": {
   "codemirror_mode": {
    "name": "ipython",
    "version": 3
   },
   "file_extension": ".py",
   "mimetype": "text/x-python",
   "name": "python",
   "nbconvert_exporter": "python",
   "pygments_lexer": "ipython3",
   "version": "3.11.4"
  }
 },
 "nbformat": 4,
 "nbformat_minor": 5
}
